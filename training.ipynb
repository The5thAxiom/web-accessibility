{
 "cells": [
  {
   "attachments": {},
   "cell_type": "markdown",
   "metadata": {},
   "source": [
    "# Training for Web Accessibility Models"
   ]
  },
  {
   "cell_type": "code",
   "execution_count": 113,
   "metadata": {},
   "outputs": [],
   "source": [
    "import pandas as pd\n",
    "import numpy as np\n",
    "import matplotlib.pyplot as plt\n",
    "\n",
    "from sklearn.tree import DecisionTreeClassifier\n",
    "from sklearn.model_selection import train_test_split\n",
    "from sklearn.metrics import classification_report, accuracy_score, ConfusionMatrixDisplay\n",
    "from sklearn.naive_bayes import GaussianNB\n",
    "from sklearn.ensemble import RandomForestClassifier\n",
    "from sklearn.svm import SVC\n",
    "from sklearn.neighbors import KNeighborsClassifier\n",
    "from sklearn.linear_model import LogisticRegression"
   ]
  },
  {
   "attachments": {},
   "cell_type": "markdown",
   "metadata": {},
   "source": [
    "## Reading the Dataset"
   ]
  },
  {
   "cell_type": "code",
   "execution_count": 114,
   "metadata": {},
   "outputs": [
    {
     "data": {
      "text/html": [
       "<div>\n",
       "<style scoped>\n",
       "    .dataframe tbody tr th:only-of-type {\n",
       "        vertical-align: middle;\n",
       "    }\n",
       "\n",
       "    .dataframe tbody tr th {\n",
       "        vertical-align: top;\n",
       "    }\n",
       "\n",
       "    .dataframe thead th {\n",
       "        text-align: right;\n",
       "    }\n",
       "</style>\n",
       "<table border=\"1\" class=\"dataframe\">\n",
       "  <thead>\n",
       "    <tr style=\"text-align: right;\">\n",
       "      <th></th>\n",
       "      <th>url</th>\n",
       "      <th>label</th>\n",
       "      <th>alt_text_percentage</th>\n",
       "      <th>aria_label_percentage</th>\n",
       "      <th>headings_without_roles</th>\n",
       "      <th>num_diff_link_phrase</th>\n",
       "      <th>aria_list_role_percentage</th>\n",
       "      <th>aria_link_role_percentage</th>\n",
       "      <th>has_aria_main_role</th>\n",
       "      <th>has_aria_nav_role</th>\n",
       "      <th>has_aria_banner_role</th>\n",
       "    </tr>\n",
       "  </thead>\n",
       "  <tbody>\n",
       "    <tr>\n",
       "      <th>0</th>\n",
       "      <td>https://zorrolegend.blogspot.com/search/label/...</td>\n",
       "      <td>1</td>\n",
       "      <td>0.722222</td>\n",
       "      <td>0.000000</td>\n",
       "      <td>1.0</td>\n",
       "      <td>0.0</td>\n",
       "      <td>0.0</td>\n",
       "      <td>0.0</td>\n",
       "      <td>0</td>\n",
       "      <td>0</td>\n",
       "      <td>0</td>\n",
       "    </tr>\n",
       "    <tr>\n",
       "      <th>1</th>\n",
       "      <td>https://duke.edu/</td>\n",
       "      <td>1</td>\n",
       "      <td>1.000000</td>\n",
       "      <td>0.000000</td>\n",
       "      <td>1.0</td>\n",
       "      <td>0.0</td>\n",
       "      <td>0.0</td>\n",
       "      <td>0.0</td>\n",
       "      <td>0</td>\n",
       "      <td>0</td>\n",
       "      <td>1</td>\n",
       "    </tr>\n",
       "    <tr>\n",
       "      <th>2</th>\n",
       "      <td>https://uh.edu/</td>\n",
       "      <td>1</td>\n",
       "      <td>1.000000</td>\n",
       "      <td>0.051020</td>\n",
       "      <td>1.0</td>\n",
       "      <td>0.0</td>\n",
       "      <td>0.0</td>\n",
       "      <td>0.0</td>\n",
       "      <td>0</td>\n",
       "      <td>0</td>\n",
       "      <td>0</td>\n",
       "    </tr>\n",
       "    <tr>\n",
       "      <th>3</th>\n",
       "      <td>https://www.w3.org/</td>\n",
       "      <td>1</td>\n",
       "      <td>1.000000</td>\n",
       "      <td>0.000000</td>\n",
       "      <td>1.0</td>\n",
       "      <td>0.0</td>\n",
       "      <td>0.0</td>\n",
       "      <td>0.0</td>\n",
       "      <td>0</td>\n",
       "      <td>0</td>\n",
       "      <td>0</td>\n",
       "    </tr>\n",
       "    <tr>\n",
       "      <th>4</th>\n",
       "      <td>https://www.wright.edu/</td>\n",
       "      <td>0</td>\n",
       "      <td>0.740741</td>\n",
       "      <td>0.000000</td>\n",
       "      <td>1.0</td>\n",
       "      <td>0.0</td>\n",
       "      <td>0.0</td>\n",
       "      <td>0.0</td>\n",
       "      <td>0</td>\n",
       "      <td>0</td>\n",
       "      <td>0</td>\n",
       "    </tr>\n",
       "    <tr>\n",
       "      <th>...</th>\n",
       "      <td>...</td>\n",
       "      <td>...</td>\n",
       "      <td>...</td>\n",
       "      <td>...</td>\n",
       "      <td>...</td>\n",
       "      <td>...</td>\n",
       "      <td>...</td>\n",
       "      <td>...</td>\n",
       "      <td>...</td>\n",
       "      <td>...</td>\n",
       "      <td>...</td>\n",
       "    </tr>\n",
       "    <tr>\n",
       "      <th>102</th>\n",
       "      <td>https://www.youtube.com/watch?v=TqyfmFaZlqw</td>\n",
       "      <td>0</td>\n",
       "      <td>1.000000</td>\n",
       "      <td>0.000000</td>\n",
       "      <td>1.0</td>\n",
       "      <td>0.0</td>\n",
       "      <td>1.0</td>\n",
       "      <td>0.0</td>\n",
       "      <td>0</td>\n",
       "      <td>0</td>\n",
       "      <td>0</td>\n",
       "    </tr>\n",
       "    <tr>\n",
       "      <th>103</th>\n",
       "      <td>https://www.twitch.tv/</td>\n",
       "      <td>0</td>\n",
       "      <td>1.000000</td>\n",
       "      <td>1.000000</td>\n",
       "      <td>1.0</td>\n",
       "      <td>0.0</td>\n",
       "      <td>1.0</td>\n",
       "      <td>1.0</td>\n",
       "      <td>0</td>\n",
       "      <td>0</td>\n",
       "      <td>0</td>\n",
       "    </tr>\n",
       "    <tr>\n",
       "      <th>104</th>\n",
       "      <td>https://www.primevideo.com/offers/nonprimehome...</td>\n",
       "      <td>0</td>\n",
       "      <td>1.000000</td>\n",
       "      <td>0.000000</td>\n",
       "      <td>1.0</td>\n",
       "      <td>0.0</td>\n",
       "      <td>0.0</td>\n",
       "      <td>0.0</td>\n",
       "      <td>0</td>\n",
       "      <td>0</td>\n",
       "      <td>0</td>\n",
       "    </tr>\n",
       "    <tr>\n",
       "      <th>105</th>\n",
       "      <td>https://www.halfords.com/</td>\n",
       "      <td>0</td>\n",
       "      <td>0.947368</td>\n",
       "      <td>0.000000</td>\n",
       "      <td>1.0</td>\n",
       "      <td>0.0</td>\n",
       "      <td>0.0</td>\n",
       "      <td>0.0</td>\n",
       "      <td>1</td>\n",
       "      <td>0</td>\n",
       "      <td>1</td>\n",
       "    </tr>\n",
       "    <tr>\n",
       "      <th>106</th>\n",
       "      <td>https://www.autotrader.com/</td>\n",
       "      <td>0</td>\n",
       "      <td>1.000000</td>\n",
       "      <td>0.033708</td>\n",
       "      <td>1.0</td>\n",
       "      <td>0.0</td>\n",
       "      <td>0.0</td>\n",
       "      <td>0.0</td>\n",
       "      <td>0</td>\n",
       "      <td>0</td>\n",
       "      <td>0</td>\n",
       "    </tr>\n",
       "  </tbody>\n",
       "</table>\n",
       "<p>107 rows × 11 columns</p>\n",
       "</div>"
      ],
      "text/plain": [
       "                                                   url label  \\\n",
       "0    https://zorrolegend.blogspot.com/search/label/...     1   \n",
       "1                                    https://duke.edu/     1   \n",
       "2                                      https://uh.edu/     1   \n",
       "3                                  https://www.w3.org/     1   \n",
       "4                              https://www.wright.edu/     0   \n",
       "..                                                 ...   ...   \n",
       "102        https://www.youtube.com/watch?v=TqyfmFaZlqw     0   \n",
       "103                             https://www.twitch.tv/     0   \n",
       "104  https://www.primevideo.com/offers/nonprimehome...     0   \n",
       "105                          https://www.halfords.com/     0   \n",
       "106                        https://www.autotrader.com/     0   \n",
       "\n",
       "     alt_text_percentage  aria_label_percentage  headings_without_roles  \\\n",
       "0               0.722222               0.000000                     1.0   \n",
       "1               1.000000               0.000000                     1.0   \n",
       "2               1.000000               0.051020                     1.0   \n",
       "3               1.000000               0.000000                     1.0   \n",
       "4               0.740741               0.000000                     1.0   \n",
       "..                   ...                    ...                     ...   \n",
       "102             1.000000               0.000000                     1.0   \n",
       "103             1.000000               1.000000                     1.0   \n",
       "104             1.000000               0.000000                     1.0   \n",
       "105             0.947368               0.000000                     1.0   \n",
       "106             1.000000               0.033708                     1.0   \n",
       "\n",
       "     num_diff_link_phrase  aria_list_role_percentage  \\\n",
       "0                     0.0                        0.0   \n",
       "1                     0.0                        0.0   \n",
       "2                     0.0                        0.0   \n",
       "3                     0.0                        0.0   \n",
       "4                     0.0                        0.0   \n",
       "..                    ...                        ...   \n",
       "102                   0.0                        1.0   \n",
       "103                   0.0                        1.0   \n",
       "104                   0.0                        0.0   \n",
       "105                   0.0                        0.0   \n",
       "106                   0.0                        0.0   \n",
       "\n",
       "     aria_link_role_percentage  has_aria_main_role  has_aria_nav_role  \\\n",
       "0                          0.0                   0                  0   \n",
       "1                          0.0                   0                  0   \n",
       "2                          0.0                   0                  0   \n",
       "3                          0.0                   0                  0   \n",
       "4                          0.0                   0                  0   \n",
       "..                         ...                 ...                ...   \n",
       "102                        0.0                   0                  0   \n",
       "103                        1.0                   0                  0   \n",
       "104                        0.0                   0                  0   \n",
       "105                        0.0                   1                  0   \n",
       "106                        0.0                   0                  0   \n",
       "\n",
       "     has_aria_banner_role  \n",
       "0                       0  \n",
       "1                       1  \n",
       "2                       0  \n",
       "3                       0  \n",
       "4                       0  \n",
       "..                    ...  \n",
       "102                     0  \n",
       "103                     0  \n",
       "104                     0  \n",
       "105                     1  \n",
       "106                     0  \n",
       "\n",
       "[107 rows x 11 columns]"
      ]
     },
     "execution_count": 114,
     "metadata": {},
     "output_type": "execute_result"
    }
   ],
   "source": [
    "df_train = pd.read_csv('./train_set.csv')\n",
    "df_train['label'] = df_train['label'].apply(lambda x: '1' if x == 'accessible' else '0')\n",
    "df_train['has_aria_main_role'] = df_train['has_aria_main_role'].apply(lambda x: 1 if x else 0)\n",
    "df_train['has_aria_nav_role'] = df_train['has_aria_nav_role'].apply(lambda x: 1 if x else 0)\n",
    "df_train['has_aria_banner_role'] = df_train['has_aria_banner_role'].apply(lambda x: 1 if x else 0)\n",
    "df_train"
   ]
  },
  {
   "cell_type": "code",
   "execution_count": 115,
   "metadata": {},
   "outputs": [
    {
     "data": {
      "text/html": [
       "<div>\n",
       "<style scoped>\n",
       "    .dataframe tbody tr th:only-of-type {\n",
       "        vertical-align: middle;\n",
       "    }\n",
       "\n",
       "    .dataframe tbody tr th {\n",
       "        vertical-align: top;\n",
       "    }\n",
       "\n",
       "    .dataframe thead th {\n",
       "        text-align: right;\n",
       "    }\n",
       "</style>\n",
       "<table border=\"1\" class=\"dataframe\">\n",
       "  <thead>\n",
       "    <tr style=\"text-align: right;\">\n",
       "      <th></th>\n",
       "      <th>alt_text_percentage</th>\n",
       "      <th>aria_label_percentage</th>\n",
       "      <th>headings_without_roles</th>\n",
       "      <th>num_diff_link_phrase</th>\n",
       "      <th>aria_list_role_percentage</th>\n",
       "      <th>aria_link_role_percentage</th>\n",
       "      <th>has_aria_main_role</th>\n",
       "      <th>has_aria_nav_role</th>\n",
       "      <th>has_aria_banner_role</th>\n",
       "    </tr>\n",
       "  </thead>\n",
       "  <tbody>\n",
       "    <tr>\n",
       "      <th>0</th>\n",
       "      <td>0.722222</td>\n",
       "      <td>0.000000</td>\n",
       "      <td>1.0</td>\n",
       "      <td>0.0</td>\n",
       "      <td>0.0</td>\n",
       "      <td>0.0</td>\n",
       "      <td>0</td>\n",
       "      <td>0</td>\n",
       "      <td>0</td>\n",
       "    </tr>\n",
       "    <tr>\n",
       "      <th>1</th>\n",
       "      <td>1.000000</td>\n",
       "      <td>0.000000</td>\n",
       "      <td>1.0</td>\n",
       "      <td>0.0</td>\n",
       "      <td>0.0</td>\n",
       "      <td>0.0</td>\n",
       "      <td>0</td>\n",
       "      <td>0</td>\n",
       "      <td>1</td>\n",
       "    </tr>\n",
       "    <tr>\n",
       "      <th>2</th>\n",
       "      <td>1.000000</td>\n",
       "      <td>0.051020</td>\n",
       "      <td>1.0</td>\n",
       "      <td>0.0</td>\n",
       "      <td>0.0</td>\n",
       "      <td>0.0</td>\n",
       "      <td>0</td>\n",
       "      <td>0</td>\n",
       "      <td>0</td>\n",
       "    </tr>\n",
       "    <tr>\n",
       "      <th>3</th>\n",
       "      <td>1.000000</td>\n",
       "      <td>0.000000</td>\n",
       "      <td>1.0</td>\n",
       "      <td>0.0</td>\n",
       "      <td>0.0</td>\n",
       "      <td>0.0</td>\n",
       "      <td>0</td>\n",
       "      <td>0</td>\n",
       "      <td>0</td>\n",
       "    </tr>\n",
       "    <tr>\n",
       "      <th>4</th>\n",
       "      <td>0.740741</td>\n",
       "      <td>0.000000</td>\n",
       "      <td>1.0</td>\n",
       "      <td>0.0</td>\n",
       "      <td>0.0</td>\n",
       "      <td>0.0</td>\n",
       "      <td>0</td>\n",
       "      <td>0</td>\n",
       "      <td>0</td>\n",
       "    </tr>\n",
       "    <tr>\n",
       "      <th>...</th>\n",
       "      <td>...</td>\n",
       "      <td>...</td>\n",
       "      <td>...</td>\n",
       "      <td>...</td>\n",
       "      <td>...</td>\n",
       "      <td>...</td>\n",
       "      <td>...</td>\n",
       "      <td>...</td>\n",
       "      <td>...</td>\n",
       "    </tr>\n",
       "    <tr>\n",
       "      <th>102</th>\n",
       "      <td>1.000000</td>\n",
       "      <td>0.000000</td>\n",
       "      <td>1.0</td>\n",
       "      <td>0.0</td>\n",
       "      <td>1.0</td>\n",
       "      <td>0.0</td>\n",
       "      <td>0</td>\n",
       "      <td>0</td>\n",
       "      <td>0</td>\n",
       "    </tr>\n",
       "    <tr>\n",
       "      <th>103</th>\n",
       "      <td>1.000000</td>\n",
       "      <td>1.000000</td>\n",
       "      <td>1.0</td>\n",
       "      <td>0.0</td>\n",
       "      <td>1.0</td>\n",
       "      <td>1.0</td>\n",
       "      <td>0</td>\n",
       "      <td>0</td>\n",
       "      <td>0</td>\n",
       "    </tr>\n",
       "    <tr>\n",
       "      <th>104</th>\n",
       "      <td>1.000000</td>\n",
       "      <td>0.000000</td>\n",
       "      <td>1.0</td>\n",
       "      <td>0.0</td>\n",
       "      <td>0.0</td>\n",
       "      <td>0.0</td>\n",
       "      <td>0</td>\n",
       "      <td>0</td>\n",
       "      <td>0</td>\n",
       "    </tr>\n",
       "    <tr>\n",
       "      <th>105</th>\n",
       "      <td>0.947368</td>\n",
       "      <td>0.000000</td>\n",
       "      <td>1.0</td>\n",
       "      <td>0.0</td>\n",
       "      <td>0.0</td>\n",
       "      <td>0.0</td>\n",
       "      <td>1</td>\n",
       "      <td>0</td>\n",
       "      <td>1</td>\n",
       "    </tr>\n",
       "    <tr>\n",
       "      <th>106</th>\n",
       "      <td>1.000000</td>\n",
       "      <td>0.033708</td>\n",
       "      <td>1.0</td>\n",
       "      <td>0.0</td>\n",
       "      <td>0.0</td>\n",
       "      <td>0.0</td>\n",
       "      <td>0</td>\n",
       "      <td>0</td>\n",
       "      <td>0</td>\n",
       "    </tr>\n",
       "  </tbody>\n",
       "</table>\n",
       "<p>107 rows × 9 columns</p>\n",
       "</div>"
      ],
      "text/plain": [
       "     alt_text_percentage  aria_label_percentage  headings_without_roles  \\\n",
       "0               0.722222               0.000000                     1.0   \n",
       "1               1.000000               0.000000                     1.0   \n",
       "2               1.000000               0.051020                     1.0   \n",
       "3               1.000000               0.000000                     1.0   \n",
       "4               0.740741               0.000000                     1.0   \n",
       "..                   ...                    ...                     ...   \n",
       "102             1.000000               0.000000                     1.0   \n",
       "103             1.000000               1.000000                     1.0   \n",
       "104             1.000000               0.000000                     1.0   \n",
       "105             0.947368               0.000000                     1.0   \n",
       "106             1.000000               0.033708                     1.0   \n",
       "\n",
       "     num_diff_link_phrase  aria_list_role_percentage  \\\n",
       "0                     0.0                        0.0   \n",
       "1                     0.0                        0.0   \n",
       "2                     0.0                        0.0   \n",
       "3                     0.0                        0.0   \n",
       "4                     0.0                        0.0   \n",
       "..                    ...                        ...   \n",
       "102                   0.0                        1.0   \n",
       "103                   0.0                        1.0   \n",
       "104                   0.0                        0.0   \n",
       "105                   0.0                        0.0   \n",
       "106                   0.0                        0.0   \n",
       "\n",
       "     aria_link_role_percentage  has_aria_main_role  has_aria_nav_role  \\\n",
       "0                          0.0                   0                  0   \n",
       "1                          0.0                   0                  0   \n",
       "2                          0.0                   0                  0   \n",
       "3                          0.0                   0                  0   \n",
       "4                          0.0                   0                  0   \n",
       "..                         ...                 ...                ...   \n",
       "102                        0.0                   0                  0   \n",
       "103                        1.0                   0                  0   \n",
       "104                        0.0                   0                  0   \n",
       "105                        0.0                   1                  0   \n",
       "106                        0.0                   0                  0   \n",
       "\n",
       "     has_aria_banner_role  \n",
       "0                       0  \n",
       "1                       1  \n",
       "2                       0  \n",
       "3                       0  \n",
       "4                       0  \n",
       "..                    ...  \n",
       "102                     0  \n",
       "103                     0  \n",
       "104                     0  \n",
       "105                     1  \n",
       "106                     0  \n",
       "\n",
       "[107 rows x 9 columns]"
      ]
     },
     "execution_count": 115,
     "metadata": {},
     "output_type": "execute_result"
    }
   ],
   "source": [
    "X = df_train.loc[:, 'alt_text_percentage': 'has_aria_banner_role']\n",
    "X"
   ]
  },
  {
   "cell_type": "code",
   "execution_count": 116,
   "metadata": {},
   "outputs": [
    {
     "data": {
      "text/plain": [
       "0      1\n",
       "1      1\n",
       "2      1\n",
       "3      1\n",
       "4      0\n",
       "      ..\n",
       "102    0\n",
       "103    0\n",
       "104    0\n",
       "105    0\n",
       "106    0\n",
       "Name: label, Length: 107, dtype: object"
      ]
     },
     "execution_count": 116,
     "metadata": {},
     "output_type": "execute_result"
    }
   ],
   "source": [
    "y = df_train['label']\n",
    "y"
   ]
  },
  {
   "cell_type": "code",
   "execution_count": 117,
   "metadata": {},
   "outputs": [],
   "source": [
    "X_train, X_test, y_train, y_test = train_test_split(X, y, train_size=0.6, random_state=1)"
   ]
  },
  {
   "cell_type": "code",
   "execution_count": 118,
   "metadata": {},
   "outputs": [],
   "source": [
    "# training begins here\n",
    "X_train = X\n",
    "y_train = y"
   ]
  },
  {
   "attachments": {},
   "cell_type": "markdown",
   "metadata": {},
   "source": [
    "## Training all Models"
   ]
  },
  {
   "cell_type": "code",
   "execution_count": 119,
   "metadata": {},
   "outputs": [],
   "source": [
    "models = [\n",
    "    {'name': 'Decision Tree', 'model': DecisionTreeClassifier()},\n",
    "    {'name': 'Naive Bayes', 'model': GaussianNB()},\n",
    "    {'name': 'Random Forest', 'model': RandomForestClassifier()},\n",
    "    {'name': 'SVM', 'model': SVC()},\n",
    "    {'name': 'KNN', 'model': KNeighborsClassifier()},\n",
    "    {'name': 'LogisticRegression', 'model': LogisticRegression()}\n",
    "]"
   ]
  },
  {
   "cell_type": "code",
   "execution_count": 120,
   "metadata": {},
   "outputs": [
    {
     "name": "stdout",
     "output_type": "stream",
     "text": [
      "for the Decision Tree model:\n",
      "              precision    recall  f1-score   support\n",
      "\n",
      "           0       0.93      0.86      0.89        29\n",
      "           1       0.75      0.86      0.80        14\n",
      "\n",
      "    accuracy                           0.86        43\n",
      "   macro avg       0.84      0.86      0.85        43\n",
      "weighted avg       0.87      0.86      0.86        43\n",
      "\n",
      "for the Naive Bayes model:\n",
      "              precision    recall  f1-score   support\n",
      "\n",
      "           0       0.90      0.31      0.46        29\n",
      "           1       0.39      0.93      0.55        14\n",
      "\n",
      "    accuracy                           0.51        43\n",
      "   macro avg       0.65      0.62      0.51        43\n",
      "weighted avg       0.74      0.51      0.49        43\n",
      "\n",
      "for the Random Forest model:\n",
      "              precision    recall  f1-score   support\n",
      "\n",
      "           0       1.00      0.76      0.86        29\n",
      "           1       0.67      1.00      0.80        14\n",
      "\n",
      "    accuracy                           0.84        43\n",
      "   macro avg       0.83      0.88      0.83        43\n",
      "weighted avg       0.89      0.84      0.84        43\n",
      "\n",
      "for the SVM model:\n",
      "              precision    recall  f1-score   support\n",
      "\n",
      "           0       0.69      0.83      0.75        29\n",
      "           1       0.38      0.21      0.27        14\n",
      "\n",
      "    accuracy                           0.63        43\n",
      "   macro avg       0.53      0.52      0.51        43\n",
      "weighted avg       0.58      0.63      0.59        43\n",
      "\n",
      "for the KNN model:\n",
      "              precision    recall  f1-score   support\n",
      "\n",
      "           0       0.75      0.72      0.74        29\n",
      "           1       0.47      0.50      0.48        14\n",
      "\n",
      "    accuracy                           0.65        43\n",
      "   macro avg       0.61      0.61      0.61        43\n",
      "weighted avg       0.66      0.65      0.65        43\n",
      "\n",
      "for the LogisticRegression model:\n",
      "              precision    recall  f1-score   support\n",
      "\n",
      "           0       0.69      0.83      0.75        29\n",
      "           1       0.38      0.21      0.27        14\n",
      "\n",
      "    accuracy                           0.63        43\n",
      "   macro avg       0.53      0.52      0.51        43\n",
      "weighted avg       0.58      0.63      0.59        43\n",
      "\n"
     ]
    }
   ],
   "source": [
    "for m in models:\n",
    "    model = m['model']\n",
    "    name = m['name']\n",
    "    model.fit(X_train, y_train)\n",
    "    preds = model.predict(X_test)\n",
    "    m['accuracy'] = accuracy_score(y_test, preds)\n",
    "    print(f'for the {name} model:')\n",
    "    print(classification_report(y_test ,preds))"
   ]
  },
  {
   "cell_type": "code",
   "execution_count": 130,
   "metadata": {},
   "outputs": [
    {
     "name": "stdout",
     "output_type": "stream",
     "text": [
      "Decision Tree: 0.8604651162790697\n"
     ]
    },
    {
     "data": {
      "image/png": "[encoded data removed]",
      "text/plain": [
       "<Figure size 432x288 with 2 Axes>"
      ]
     },
     "metadata": {
      "needs_background": "light"
     },
     "output_type": "display_data"
    },
    {
     "name": "stdout",
     "output_type": "stream",
     "text": [
      "Naive Bayes: 0.5116279069767442\n"
     ]
    },
    {
     "data": {
      "image/png": "[encoded data removed]",
      "text/plain": [
       "<Figure size 432x288 with 2 Axes>"
      ]
     },
     "metadata": {
      "needs_background": "light"
     },
     "output_type": "display_data"
    },
    {
     "name": "stdout",
     "output_type": "stream",
     "text": [
      "Random Forest: 0.8372093023255814\n"
     ]
    },
    {
     "data": {
      "image/png": "[encoded data removed]",
      "text/plain": [
       "<Figure size 432x288 with 2 Axes>"
      ]
     },
     "metadata": {
      "needs_background": "light"
     },
     "output_type": "display_data"
    },
    {
     "name": "stdout",
     "output_type": "stream",
     "text": [
      "SVM: 0.627906976744186\n"
     ]
    },
    {
     "data": {
      "image/png": "[encoded data removed]",
      "text/plain": [
       "<Figure size 432x288 with 2 Axes>"
      ]
     },
     "metadata": {
      "needs_background": "light"
     },
     "output_type": "display_data"
    },
    {
     "name": "stdout",
     "output_type": "stream",
     "text": [
      "KNN: 0.6511627906976745\n"
     ]
    },
    {
     "data": {
      "image/png": "[encoded data removed]",
      "text/plain": [
       "<Figure size 432x288 with 2 Axes>"
      ]
     },
     "metadata": {
      "needs_background": "light"
     },
     "output_type": "display_data"
    },
    {
     "name": "stdout",
     "output_type": "stream",
     "text": [
      "LogisticRegression: 0.627906976744186\n"
     ]
    },
    {
     "data": {
      "image/png": "[encoded data removed]",
      "text/plain": [
       "<Figure size 432x288 with 2 Axes>"
      ]
     },
     "metadata": {
      "needs_background": "light"
     },
     "output_type": "display_data"
    }
   ],
   "source": [
    "for m in models:\n",
    "    print(f\"{m['name']}: {m['accuracy']}\")\n",
    "    ConfusionMatrixDisplay.from_predictions(m['model'].predict(X_test), y_test)\n",
    "    plt.title(m['name'])\n",
    "    plt.show()"
   ]
  },
  {
   "attachments": {},
   "cell_type": "markdown",
   "metadata": {},
   "source": [
    "## Aggregate Ensemble Learning for the Best Performing Models"
   ]
  },
  {
   "cell_type": "code",
   "execution_count": 122,
   "metadata": {},
   "outputs": [
    {
     "name": "stdout",
     "output_type": "stream",
     "text": [
      "Decision Tree: 0.8604651162790697\n",
      "Random Forest: 0.8372093023255814\n",
      "KNN: 0.6511627906976745\n",
      "SVM: 0.627906976744186\n",
      "LogisticRegression: 0.627906976744186\n",
      "Naive Bayes: 0.5116279069767442\n"
     ]
    }
   ],
   "source": [
    "final_models = sorted(models, key=lambda x: x['accuracy'], reverse=True)\n",
    "for m in final_models:\n",
    "    print(f\"{m['name']}: {m['accuracy']}\")"
   ]
  },
  {
   "cell_type": "code",
   "execution_count": 123,
   "metadata": {},
   "outputs": [],
   "source": [
    "class BinaryAggregateEnsemble:\n",
    "    def __init__(self, models):\n",
    "        self.models = models\n",
    "\n",
    "    def fit(self, X, y):\n",
    "        for model in self.models:\n",
    "            model.fit(X, y)\n",
    "\n",
    "    def predict(self, X):\n",
    "        preds = np.transpose(\n",
    "            np.asarray(\n",
    "                [model.predict(X) for model in self.models]\n",
    "            )\n",
    "        )\n",
    "        return [str(int(pred.tolist().count('1') > pred.tolist().count('0'))) for pred in preds]"
   ]
  },
  {
   "cell_type": "code",
   "execution_count": 127,
   "metadata": {},
   "outputs": [
    {
     "name": "stdout",
     "output_type": "stream",
     "text": [
      "              precision    recall  f1-score   support\n",
      "\n",
      "           0       0.86      0.93      0.89        27\n",
      "           1       0.86      0.75      0.80        16\n",
      "\n",
      "    accuracy                           0.86        43\n",
      "   macro avg       0.86      0.84      0.85        43\n",
      "weighted avg       0.86      0.86      0.86        43\n",
      "\n"
     ]
    }
   ],
   "source": [
    "final_model = BinaryAggregateEnsemble([m['model'] for m in final_models[:3]])\n",
    "final_model.fit(X_train, y_train)\n",
    "final_preds = final_model.predict(X_test)\n",
    "print(classification_report(final_preds, y_test))"
   ]
  },
  {
   "cell_type": "code",
   "execution_count": 131,
   "metadata": {},
   "outputs": [
    {
     "data": {
      "text/plain": [
       "0.8604651162790697"
      ]
     },
     "execution_count": 131,
     "metadata": {},
     "output_type": "execute_result"
    }
   ],
   "source": [
    "accuracy_score(final_preds, y_test)"
   ]
  },
  {
   "cell_type": "code",
   "execution_count": 129,
   "metadata": {},
   "outputs": [
    {
     "data": {
      "image/png": "[encoded data removed]",
      "text/plain": [
       "<Figure size 432x288 with 2 Axes>"
      ]
     },
     "metadata": {
      "needs_background": "light"
     },
     "output_type": "display_data"
    }
   ],
   "source": [
    "ConfusionMatrixDisplay.from_predictions(final_preds, y_test)\n",
    "plt.show()"
   ]
  }
 ],
 "metadata": {
  "kernelspec": {
   "display_name": "Python 3",
   "language": "python",
   "name": "python3"
  },
  "language_info": {
   "codemirror_mode": {
    "name": "ipython",
    "version": 3
   },
   "file_extension": ".py",
   "mimetype": "text/x-python",
   "name": "python",
   "nbconvert_exporter": "python",
   "pygments_lexer": "ipython3",
   "version": "3.11.2"
  },
  "orig_nbformat": 4,
  "vscode": {
   "interpreter": {
    "hash": "e7370f93d1d0cde622a1f8e1c04877d8463912d04d973331ad4851f04de6915a"
   }
  }
 },
 "nbformat": 4,
 "nbformat_minor": 2
}
